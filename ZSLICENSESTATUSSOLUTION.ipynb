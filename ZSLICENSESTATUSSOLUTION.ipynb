{
 "cells": [
  {
   "cell_type": "markdown",
   "id": "e75cbd34",
   "metadata": {},
   "source": [
    "# IMPORTING ALL LIBRARIES REQUIRED "
   ]
  },
  {
   "cell_type": "code",
   "execution_count": 1,
   "id": "e14150e9",
   "metadata": {},
   "outputs": [],
   "source": [
    "import pandas as pd\n",
    "import numpy as np\n",
    "import matplotlib.pyplot as plt\n",
    "import seaborn as sns\n",
    "from sklearn.preprocessing import LabelEncoder\n",
    "from sklearn import metrics\n",
    "from sklearn.model_selection import train_test_split\n",
    "from sklearn import preprocessing"
   ]
  },
  {
   "cell_type": "markdown",
   "id": "e00acbbd",
   "metadata": {},
   "source": [
    "# IMPORTING THE TRAINING AND TESTING DATASETS"
   ]
  },
  {
   "cell_type": "code",
   "execution_count": 2,
   "id": "8ce42d25",
   "metadata": {},
   "outputs": [
    {
     "name": "stderr",
     "output_type": "stream",
     "text": [
      "D:\\ANACONDA\\lib\\site-packages\\IPython\\core\\interactiveshell.py:3444: DtypeWarning: Columns (9) have mixed types.Specify dtype option on import or set low_memory=False.\n",
      "  exec(code_obj, self.user_global_ns, self.user_ns)\n"
     ]
    },
    {
     "data": {
      "text/html": [
       "<div>\n",
       "<style scoped>\n",
       "    .dataframe tbody tr th:only-of-type {\n",
       "        vertical-align: middle;\n",
       "    }\n",
       "\n",
       "    .dataframe tbody tr th {\n",
       "        vertical-align: top;\n",
       "    }\n",
       "\n",
       "    .dataframe thead th {\n",
       "        text-align: right;\n",
       "    }\n",
       "</style>\n",
       "<table border=\"1\" class=\"dataframe\">\n",
       "  <thead>\n",
       "    <tr style=\"text-align: right;\">\n",
       "      <th></th>\n",
       "      <th>ID</th>\n",
       "      <th>LICENSE ID</th>\n",
       "      <th>ACCOUNT NUMBER</th>\n",
       "      <th>SITE NUMBER</th>\n",
       "      <th>LEGAL NAME</th>\n",
       "      <th>DOING BUSINESS AS NAME</th>\n",
       "      <th>ADDRESS</th>\n",
       "      <th>CITY</th>\n",
       "      <th>STATE</th>\n",
       "      <th>ZIP CODE</th>\n",
       "      <th>...</th>\n",
       "      <th>LICENSE TERM START DATE</th>\n",
       "      <th>LICENSE TERM EXPIRATION DATE</th>\n",
       "      <th>LICENSE APPROVED FOR ISSUANCE</th>\n",
       "      <th>DATE ISSUED</th>\n",
       "      <th>LICENSE STATUS CHANGE DATE</th>\n",
       "      <th>SSA</th>\n",
       "      <th>LATITUDE</th>\n",
       "      <th>LONGITUDE</th>\n",
       "      <th>LOCATION</th>\n",
       "      <th>LICENSE STATUS</th>\n",
       "    </tr>\n",
       "  </thead>\n",
       "  <tbody>\n",
       "    <tr>\n",
       "      <th>0</th>\n",
       "      <td>35342-20020816</td>\n",
       "      <td>1256593</td>\n",
       "      <td>32811</td>\n",
       "      <td>1</td>\n",
       "      <td>CARMEN CAHUE</td>\n",
       "      <td>CLAUDIA'S BRIDAL SHOP</td>\n",
       "      <td>2625 S CENTRAL PARK AVE  1</td>\n",
       "      <td>CHICAGO</td>\n",
       "      <td>IL</td>\n",
       "      <td>60623</td>\n",
       "      <td>...</td>\n",
       "      <td>16-08-2002</td>\n",
       "      <td>15-08-2003</td>\n",
       "      <td>21-08-2002</td>\n",
       "      <td>11-04-2006</td>\n",
       "      <td>NaN</td>\n",
       "      <td>25.0</td>\n",
       "      <td>41.843613</td>\n",
       "      <td>-87.714618</td>\n",
       "      <td>{'latitude': '41.843612879431845', 'longitude'...</td>\n",
       "      <td>2</td>\n",
       "    </tr>\n",
       "    <tr>\n",
       "      <th>1</th>\n",
       "      <td>1358463-20051116</td>\n",
       "      <td>1639294</td>\n",
       "      <td>262311</td>\n",
       "      <td>29</td>\n",
       "      <td>ISLA TROPICAL, INC.</td>\n",
       "      <td>ISLA TROPICAL</td>\n",
       "      <td>2825 W MONTROSE AVE</td>\n",
       "      <td>CHICAGO</td>\n",
       "      <td>IL</td>\n",
       "      <td>60618</td>\n",
       "      <td>...</td>\n",
       "      <td>16-11-2005</td>\n",
       "      <td>15-11-2006</td>\n",
       "      <td>05-04-2006</td>\n",
       "      <td>12-06-2006</td>\n",
       "      <td>15-06-2006</td>\n",
       "      <td>60.0</td>\n",
       "      <td>41.961132</td>\n",
       "      <td>-87.699626</td>\n",
       "      <td>{'latitude': '41.96113244107215', 'longitude':...</td>\n",
       "      <td>1</td>\n",
       "    </tr>\n",
       "    <tr>\n",
       "      <th>2</th>\n",
       "      <td>1980233-20090722</td>\n",
       "      <td>1980233</td>\n",
       "      <td>345008</td>\n",
       "      <td>1</td>\n",
       "      <td>DJS REMODELING</td>\n",
       "      <td>DJS REMODELING, INC.</td>\n",
       "      <td>1605  CLAVEY RD 1</td>\n",
       "      <td>HIGHLAND</td>\n",
       "      <td>IL</td>\n",
       "      <td>60035</td>\n",
       "      <td>...</td>\n",
       "      <td>22-07-2009</td>\n",
       "      <td>15-07-2011</td>\n",
       "      <td>22-07-2009</td>\n",
       "      <td>22-07-2009</td>\n",
       "      <td>NaN</td>\n",
       "      <td>NaN</td>\n",
       "      <td>NaN</td>\n",
       "      <td>NaN</td>\n",
       "      <td>NaN</td>\n",
       "      <td>2</td>\n",
       "    </tr>\n",
       "    <tr>\n",
       "      <th>3</th>\n",
       "      <td>1476582-20040211</td>\n",
       "      <td>1476582</td>\n",
       "      <td>273121</td>\n",
       "      <td>1</td>\n",
       "      <td>ALL-BRY CONSTRUCTION CO.</td>\n",
       "      <td>ALL-BRY CONSTRUCTION CO.</td>\n",
       "      <td>8  NORTH TRAIL</td>\n",
       "      <td>LEMONT</td>\n",
       "      <td>IL</td>\n",
       "      <td>60439</td>\n",
       "      <td>...</td>\n",
       "      <td>11-02-2004</td>\n",
       "      <td>15-02-2005</td>\n",
       "      <td>10-02-2004</td>\n",
       "      <td>11-02-2004</td>\n",
       "      <td>NaN</td>\n",
       "      <td>NaN</td>\n",
       "      <td>NaN</td>\n",
       "      <td>NaN</td>\n",
       "      <td>NaN</td>\n",
       "      <td>2</td>\n",
       "    </tr>\n",
       "    <tr>\n",
       "      <th>4</th>\n",
       "      <td>1141408-20080516</td>\n",
       "      <td>1896750</td>\n",
       "      <td>213785</td>\n",
       "      <td>1</td>\n",
       "      <td>MCDONOUGH MECHANICAL SERVICE</td>\n",
       "      <td>MCDONOUGH MECHANICAL SERVICE</td>\n",
       "      <td>4081  JOSEPH DR</td>\n",
       "      <td>WAUKEGAN</td>\n",
       "      <td>IL</td>\n",
       "      <td>60087</td>\n",
       "      <td>...</td>\n",
       "      <td>16-05-2008</td>\n",
       "      <td>15-05-2010</td>\n",
       "      <td>04-06-2008</td>\n",
       "      <td>05-06-2008</td>\n",
       "      <td>NaN</td>\n",
       "      <td>NaN</td>\n",
       "      <td>NaN</td>\n",
       "      <td>NaN</td>\n",
       "      <td>NaN</td>\n",
       "      <td>2</td>\n",
       "    </tr>\n",
       "  </tbody>\n",
       "</table>\n",
       "<p>5 rows × 32 columns</p>\n",
       "</div>"
      ],
      "text/plain": [
       "                 ID  LICENSE ID  ACCOUNT NUMBER  SITE NUMBER  \\\n",
       "0    35342-20020816     1256593           32811            1   \n",
       "1  1358463-20051116     1639294          262311           29   \n",
       "2  1980233-20090722     1980233          345008            1   \n",
       "3  1476582-20040211     1476582          273121            1   \n",
       "4  1141408-20080516     1896750          213785            1   \n",
       "\n",
       "                     LEGAL NAME        DOING BUSINESS AS NAME  \\\n",
       "0                  CARMEN CAHUE         CLAUDIA'S BRIDAL SHOP   \n",
       "1           ISLA TROPICAL, INC.                 ISLA TROPICAL   \n",
       "2                DJS REMODELING          DJS REMODELING, INC.   \n",
       "3      ALL-BRY CONSTRUCTION CO.      ALL-BRY CONSTRUCTION CO.   \n",
       "4  MCDONOUGH MECHANICAL SERVICE  MCDONOUGH MECHANICAL SERVICE   \n",
       "\n",
       "                      ADDRESS      CITY STATE ZIP CODE  ...  \\\n",
       "0  2625 S CENTRAL PARK AVE  1   CHICAGO    IL    60623  ...   \n",
       "1         2825 W MONTROSE AVE   CHICAGO    IL    60618  ...   \n",
       "2           1605  CLAVEY RD 1  HIGHLAND    IL    60035  ...   \n",
       "3              8  NORTH TRAIL    LEMONT    IL    60439  ...   \n",
       "4             4081  JOSEPH DR  WAUKEGAN    IL    60087  ...   \n",
       "\n",
       "   LICENSE TERM START DATE  LICENSE TERM EXPIRATION DATE  \\\n",
       "0               16-08-2002                    15-08-2003   \n",
       "1               16-11-2005                    15-11-2006   \n",
       "2               22-07-2009                    15-07-2011   \n",
       "3               11-02-2004                    15-02-2005   \n",
       "4               16-05-2008                    15-05-2010   \n",
       "\n",
       "  LICENSE APPROVED FOR ISSUANCE  DATE ISSUED  LICENSE STATUS CHANGE DATE  \\\n",
       "0                    21-08-2002   11-04-2006                         NaN   \n",
       "1                    05-04-2006   12-06-2006                  15-06-2006   \n",
       "2                    22-07-2009   22-07-2009                         NaN   \n",
       "3                    10-02-2004   11-02-2004                         NaN   \n",
       "4                    04-06-2008   05-06-2008                         NaN   \n",
       "\n",
       "    SSA   LATITUDE  LONGITUDE  \\\n",
       "0  25.0  41.843613 -87.714618   \n",
       "1  60.0  41.961132 -87.699626   \n",
       "2   NaN        NaN        NaN   \n",
       "3   NaN        NaN        NaN   \n",
       "4   NaN        NaN        NaN   \n",
       "\n",
       "                                            LOCATION LICENSE STATUS  \n",
       "0  {'latitude': '41.843612879431845', 'longitude'...              2  \n",
       "1  {'latitude': '41.96113244107215', 'longitude':...              1  \n",
       "2                                                NaN              2  \n",
       "3                                                NaN              2  \n",
       "4                                                NaN              2  \n",
       "\n",
       "[5 rows x 32 columns]"
      ]
     },
     "execution_count": 2,
     "metadata": {},
     "output_type": "execute_result"
    }
   ],
   "source": [
    "train_data = pd.read_csv(r\"D:\\ZS TEST\\cleanedtrain_file.csv\")\n",
    "train_data.head()"
   ]
  },
  {
   "cell_type": "code",
   "execution_count": 3,
   "id": "6647645a",
   "metadata": {},
   "outputs": [
    {
     "data": {
      "text/html": [
       "<div>\n",
       "<style scoped>\n",
       "    .dataframe tbody tr th:only-of-type {\n",
       "        vertical-align: middle;\n",
       "    }\n",
       "\n",
       "    .dataframe tbody tr th {\n",
       "        vertical-align: top;\n",
       "    }\n",
       "\n",
       "    .dataframe thead th {\n",
       "        text-align: right;\n",
       "    }\n",
       "</style>\n",
       "<table border=\"1\" class=\"dataframe\">\n",
       "  <thead>\n",
       "    <tr style=\"text-align: right;\">\n",
       "      <th></th>\n",
       "      <th>ID</th>\n",
       "      <th>LICENSE ID</th>\n",
       "      <th>ACCOUNT NUMBER</th>\n",
       "      <th>SITE NUMBER</th>\n",
       "      <th>LEGAL NAME</th>\n",
       "      <th>DOING BUSINESS AS NAME</th>\n",
       "      <th>ADDRESS</th>\n",
       "      <th>CITY</th>\n",
       "      <th>STATE</th>\n",
       "      <th>ZIP CODE</th>\n",
       "      <th>...</th>\n",
       "      <th>CONDITIONAL APPROVAL</th>\n",
       "      <th>LICENSE TERM START DATE</th>\n",
       "      <th>LICENSE TERM EXPIRATION DATE</th>\n",
       "      <th>LICENSE APPROVED FOR ISSUANCE</th>\n",
       "      <th>DATE ISSUED</th>\n",
       "      <th>LICENSE STATUS CHANGE DATE</th>\n",
       "      <th>SSA</th>\n",
       "      <th>LATITUDE</th>\n",
       "      <th>LONGITUDE</th>\n",
       "      <th>LOCATION</th>\n",
       "    </tr>\n",
       "  </thead>\n",
       "  <tbody>\n",
       "    <tr>\n",
       "      <th>0</th>\n",
       "      <td>1516615-20120216</td>\n",
       "      <td>2132209</td>\n",
       "      <td>280120</td>\n",
       "      <td>1</td>\n",
       "      <td>RS HOMES I LLC</td>\n",
       "      <td>RS HOMES I LLC</td>\n",
       "      <td>350 W HUBBARD ST 3 300</td>\n",
       "      <td>CHICAGO</td>\n",
       "      <td>IL</td>\n",
       "      <td>60610.0</td>\n",
       "      <td>...</td>\n",
       "      <td>N</td>\n",
       "      <td>16-02-2012</td>\n",
       "      <td>15-02-2014</td>\n",
       "      <td>19-01-2012</td>\n",
       "      <td>20-01-2012</td>\n",
       "      <td>29-12-2012</td>\n",
       "      <td>NaN</td>\n",
       "      <td>41.890047</td>\n",
       "      <td>-87.637467</td>\n",
       "      <td>{'latitude': '41.89004724888915', 'longitude':...</td>\n",
       "    </tr>\n",
       "    <tr>\n",
       "      <th>1</th>\n",
       "      <td>69813-20110616</td>\n",
       "      <td>2090759</td>\n",
       "      <td>65043</td>\n",
       "      <td>1</td>\n",
       "      <td>CSX INTERMODAL INC</td>\n",
       "      <td>CSX INTERMODAL</td>\n",
       "      <td>2101 W 59TH ST 1ST</td>\n",
       "      <td>CHICAGO</td>\n",
       "      <td>IL</td>\n",
       "      <td>60636.0</td>\n",
       "      <td>...</td>\n",
       "      <td>N</td>\n",
       "      <td>16-06-2011</td>\n",
       "      <td>15-06-2013</td>\n",
       "      <td>02-11-2012</td>\n",
       "      <td>05-11-2012</td>\n",
       "      <td>29-12-2012</td>\n",
       "      <td>NaN</td>\n",
       "      <td>41.786485</td>\n",
       "      <td>-87.676665</td>\n",
       "      <td>{'latitude': '41.786485235679486', 'longitude'...</td>\n",
       "    </tr>\n",
       "    <tr>\n",
       "      <th>2</th>\n",
       "      <td>1519227-20041116</td>\n",
       "      <td>1541990</td>\n",
       "      <td>281270</td>\n",
       "      <td>1</td>\n",
       "      <td>LOCOMIBILE  LOFTS LLC</td>\n",
       "      <td>LOCOMOBILE LOFTS LLC</td>\n",
       "      <td>1133 S WABASH AVE 1ST</td>\n",
       "      <td>CHICAGO</td>\n",
       "      <td>IL</td>\n",
       "      <td>60605.0</td>\n",
       "      <td>...</td>\n",
       "      <td>N</td>\n",
       "      <td>16-11-2004</td>\n",
       "      <td>15-11-2005</td>\n",
       "      <td>06-12-2004</td>\n",
       "      <td>07-12-2004</td>\n",
       "      <td>NaN</td>\n",
       "      <td>NaN</td>\n",
       "      <td>41.868269</td>\n",
       "      <td>-87.625695</td>\n",
       "      <td>{'latitude': '41.86826924843568', 'longitude':...</td>\n",
       "    </tr>\n",
       "    <tr>\n",
       "      <th>3</th>\n",
       "      <td>1922025-20100816</td>\n",
       "      <td>2041053</td>\n",
       "      <td>335243</td>\n",
       "      <td>1</td>\n",
       "      <td>ANNA F. JAMISON</td>\n",
       "      <td>ANNA F. JAMISON</td>\n",
       "      <td>13156 S FORRESTVILLE AVE</td>\n",
       "      <td>CHICAGO</td>\n",
       "      <td>IL</td>\n",
       "      <td>60827.0</td>\n",
       "      <td>...</td>\n",
       "      <td>N</td>\n",
       "      <td>16-08-2010</td>\n",
       "      <td>15-08-2012</td>\n",
       "      <td>NaN</td>\n",
       "      <td>04-11-2010</td>\n",
       "      <td>31-12-2012</td>\n",
       "      <td>NaN</td>\n",
       "      <td>41.655762</td>\n",
       "      <td>-87.608686</td>\n",
       "      <td>{'latitude': '41.65576175146191', 'longitude':...</td>\n",
       "    </tr>\n",
       "    <tr>\n",
       "      <th>4</th>\n",
       "      <td>1675683-20070816</td>\n",
       "      <td>1837158</td>\n",
       "      <td>283018</td>\n",
       "      <td>3</td>\n",
       "      <td>MARINCA A. COVARRUBIAS</td>\n",
       "      <td>DETAILS</td>\n",
       "      <td>4208 S ARCHER AVE</td>\n",
       "      <td>CHICAGO</td>\n",
       "      <td>IL</td>\n",
       "      <td>60632.0</td>\n",
       "      <td>...</td>\n",
       "      <td>N</td>\n",
       "      <td>16-08-2007</td>\n",
       "      <td>15-06-2009</td>\n",
       "      <td>15-08-2007</td>\n",
       "      <td>16-08-2007</td>\n",
       "      <td>26-03-2008</td>\n",
       "      <td>39.0</td>\n",
       "      <td>41.816969</td>\n",
       "      <td>-87.699785</td>\n",
       "      <td>{'latitude': '41.81696910012824', 'longitude':...</td>\n",
       "    </tr>\n",
       "  </tbody>\n",
       "</table>\n",
       "<p>5 rows × 31 columns</p>\n",
       "</div>"
      ],
      "text/plain": [
       "                 ID  LICENSE ID  ACCOUNT NUMBER  SITE NUMBER  \\\n",
       "0  1516615-20120216     2132209          280120            1   \n",
       "1    69813-20110616     2090759           65043            1   \n",
       "2  1519227-20041116     1541990          281270            1   \n",
       "3  1922025-20100816     2041053          335243            1   \n",
       "4  1675683-20070816     1837158          283018            3   \n",
       "\n",
       "               LEGAL NAME DOING BUSINESS AS NAME                   ADDRESS  \\\n",
       "0          RS HOMES I LLC         RS HOMES I LLC    350 W HUBBARD ST 3 300   \n",
       "1      CSX INTERMODAL INC         CSX INTERMODAL        2101 W 59TH ST 1ST   \n",
       "2   LOCOMIBILE  LOFTS LLC   LOCOMOBILE LOFTS LLC     1133 S WABASH AVE 1ST   \n",
       "3         ANNA F. JAMISON        ANNA F. JAMISON  13156 S FORRESTVILLE AVE   \n",
       "4  MARINCA A. COVARRUBIAS                DETAILS         4208 S ARCHER AVE   \n",
       "\n",
       "      CITY STATE  ZIP CODE  ...  CONDITIONAL APPROVAL  \\\n",
       "0  CHICAGO    IL   60610.0  ...                     N   \n",
       "1  CHICAGO    IL   60636.0  ...                     N   \n",
       "2  CHICAGO    IL   60605.0  ...                     N   \n",
       "3  CHICAGO    IL   60827.0  ...                     N   \n",
       "4  CHICAGO    IL   60632.0  ...                     N   \n",
       "\n",
       "   LICENSE TERM START DATE LICENSE TERM EXPIRATION DATE  \\\n",
       "0               16-02-2012                   15-02-2014   \n",
       "1               16-06-2011                   15-06-2013   \n",
       "2               16-11-2004                   15-11-2005   \n",
       "3               16-08-2010                   15-08-2012   \n",
       "4               16-08-2007                   15-06-2009   \n",
       "\n",
       "   LICENSE APPROVED FOR ISSUANCE  DATE ISSUED LICENSE STATUS CHANGE DATE  \\\n",
       "0                     19-01-2012   20-01-2012                 29-12-2012   \n",
       "1                     02-11-2012   05-11-2012                 29-12-2012   \n",
       "2                     06-12-2004   07-12-2004                        NaN   \n",
       "3                            NaN   04-11-2010                 31-12-2012   \n",
       "4                     15-08-2007   16-08-2007                 26-03-2008   \n",
       "\n",
       "    SSA   LATITUDE  LONGITUDE  \\\n",
       "0   NaN  41.890047 -87.637467   \n",
       "1   NaN  41.786485 -87.676665   \n",
       "2   NaN  41.868269 -87.625695   \n",
       "3   NaN  41.655762 -87.608686   \n",
       "4  39.0  41.816969 -87.699785   \n",
       "\n",
       "                                            LOCATION  \n",
       "0  {'latitude': '41.89004724888915', 'longitude':...  \n",
       "1  {'latitude': '41.786485235679486', 'longitude'...  \n",
       "2  {'latitude': '41.86826924843568', 'longitude':...  \n",
       "3  {'latitude': '41.65576175146191', 'longitude':...  \n",
       "4  {'latitude': '41.81696910012824', 'longitude':...  \n",
       "\n",
       "[5 rows x 31 columns]"
      ]
     },
     "execution_count": 3,
     "metadata": {},
     "output_type": "execute_result"
    }
   ],
   "source": [
    "test_data = pd.read_csv(r\"D:\\ZS TEST\\cleanedtest_file.csv\")\n",
    "test_data.head()\n"
   ]
  },
  {
   "cell_type": "markdown",
   "id": "713ff1b9",
   "metadata": {},
   "source": [
    "# CREATING NEW DATAFRAME FOR STORING THE FINAL PREDICTED RESULT "
   ]
  },
  {
   "cell_type": "code",
   "execution_count": 4,
   "id": "41a4d4a5",
   "metadata": {},
   "outputs": [
    {
     "data": {
      "text/html": [
       "<div>\n",
       "<style scoped>\n",
       "    .dataframe tbody tr th:only-of-type {\n",
       "        vertical-align: middle;\n",
       "    }\n",
       "\n",
       "    .dataframe tbody tr th {\n",
       "        vertical-align: top;\n",
       "    }\n",
       "\n",
       "    .dataframe thead th {\n",
       "        text-align: right;\n",
       "    }\n",
       "</style>\n",
       "<table border=\"1\" class=\"dataframe\">\n",
       "  <thead>\n",
       "    <tr style=\"text-align: right;\">\n",
       "      <th></th>\n",
       "      <th>ID</th>\n",
       "    </tr>\n",
       "  </thead>\n",
       "  <tbody>\n",
       "    <tr>\n",
       "      <th>0</th>\n",
       "      <td>1516615-20120216</td>\n",
       "    </tr>\n",
       "    <tr>\n",
       "      <th>1</th>\n",
       "      <td>69813-20110616</td>\n",
       "    </tr>\n",
       "    <tr>\n",
       "      <th>2</th>\n",
       "      <td>1519227-20041116</td>\n",
       "    </tr>\n",
       "    <tr>\n",
       "      <th>3</th>\n",
       "      <td>1922025-20100816</td>\n",
       "    </tr>\n",
       "    <tr>\n",
       "      <th>4</th>\n",
       "      <td>1675683-20070816</td>\n",
       "    </tr>\n",
       "  </tbody>\n",
       "</table>\n",
       "</div>"
      ],
      "text/plain": [
       "                 ID\n",
       "0  1516615-20120216\n",
       "1    69813-20110616\n",
       "2  1519227-20041116\n",
       "3  1922025-20100816\n",
       "4  1675683-20070816"
      ]
     },
     "execution_count": 4,
     "metadata": {},
     "output_type": "execute_result"
    }
   ],
   "source": [
    "my_submission = pd.DataFrame({'ID': test_data.ID})\n",
    "my_submission.head()"
   ]
  },
  {
   "cell_type": "code",
   "execution_count": 5,
   "id": "0ccaa243",
   "metadata": {},
   "outputs": [
    {
     "data": {
      "text/plain": [
       "2    55400\n",
       "1    30200\n",
       "5      290\n",
       "4        3\n",
       "3        2\n",
       "Name: LICENSE STATUS, dtype: int64"
      ]
     },
     "execution_count": 5,
     "metadata": {},
     "output_type": "execute_result"
    }
   ],
   "source": [
    "# FINDING OUT THE TOTAL COUNT OF DIFFERENT LICENSE STATUS CLASS FROM 1-5\n",
    "train_data['LICENSE STATUS'].value_counts()"
   ]
  },
  {
   "cell_type": "code",
   "execution_count": 6,
   "id": "5e014f10",
   "metadata": {},
   "outputs": [],
   "source": [
    "# Dropping columns which will be of no use for our model\n",
    "col_list = ['APPLICATION CREATED DATE', 'SSA', 'LICENSE ID', 'ADDRESS', 'ID', 'LOCATION']"
   ]
  },
  {
   "cell_type": "code",
   "execution_count": 7,
   "id": "8f51e1c2",
   "metadata": {},
   "outputs": [],
   "source": [
    "# Dropping columns which will be of no use for our model\n",
    "train_data = train_data.drop(col_list, axis=1)\n",
    "test_data = test_data.drop(col_list, axis=1)"
   ]
  },
  {
   "cell_type": "code",
   "execution_count": 8,
   "id": "e14fddc5",
   "metadata": {},
   "outputs": [],
   "source": [
    "# Function to impute with ZERO VALUE FOR EMPTY DATA\n",
    "def impute_nil(imp_nil_list):\n",
    "    for i in imp_nil_list:\n",
    "        train_data[i] = train_data[i].fillna(0)\n",
    "        test_data[i] = test_data[i].fillna(0)"
   ]
  },
  {
   "cell_type": "code",
   "execution_count": 9,
   "id": "b4b5bf60",
   "metadata": {},
   "outputs": [],
   "source": [
    "# Function to LabelEncode all the non numerical values\n",
    "def create_dummies(df):\n",
    "    for i in df.columns:\n",
    "        if df[i].dtypes=='object':\n",
    "            print(i,'encoded')\n",
    "            mask = ~df[i].isnull()\n",
    "            label_encoder = LabelEncoder() \n",
    "            try:\n",
    "                df[i][mask] = label_encoder.fit_transform(df[i][mask])\n",
    "                df[i] = df[i].astype(int)\n",
    "            except Exception as e:\n",
    "                print(e)\n",
    "    return df"
   ]
  },
  {
   "cell_type": "code",
   "execution_count": 10,
   "id": "5a365ab0",
   "metadata": {},
   "outputs": [
    {
     "name": "stdout",
     "output_type": "stream",
     "text": [
      "LEGAL NAME encoded\n"
     ]
    },
    {
     "name": "stderr",
     "output_type": "stream",
     "text": [
      "C:\\Users\\USER\\AppData\\Local\\Temp/ipykernel_13228/3072490657.py:9: SettingWithCopyWarning: \n",
      "A value is trying to be set on a copy of a slice from a DataFrame\n",
      "\n",
      "See the caveats in the documentation: https://pandas.pydata.org/pandas-docs/stable/user_guide/indexing.html#returning-a-view-versus-a-copy\n",
      "  df[i][mask] = label_encoder.fit_transform(df[i][mask])\n"
     ]
    },
    {
     "name": "stdout",
     "output_type": "stream",
     "text": [
      "DOING BUSINESS AS NAME encoded\n",
      "cannot convert float NaN to integer\n",
      "CITY encoded\n",
      "STATE encoded\n",
      "ZIP CODE encoded\n",
      "Encoders require their input to be uniformly strings or numbers. Got ['float', 'str']\n",
      "WARD PRECINCT encoded\n",
      "cannot convert float NaN to integer\n",
      "LICENSE DESCRIPTION encoded\n",
      "APPLICATION TYPE encoded\n",
      "APPLICATION REQUIREMENTS COMPLETE encoded\n",
      "cannot convert float NaN to integer\n",
      "PAYMENT DATE encoded\n",
      "cannot convert float NaN to integer\n",
      "CONDITIONAL APPROVAL encoded\n",
      "LICENSE TERM START DATE encoded\n",
      "cannot convert float NaN to integer\n",
      "LICENSE TERM EXPIRATION DATE encoded\n",
      "cannot convert float NaN to integer\n",
      "LICENSE APPROVED FOR ISSUANCE encoded\n",
      "cannot convert float NaN to integer\n",
      "DATE ISSUED encoded\n",
      "LICENSE STATUS CHANGE DATE encoded\n",
      "cannot convert float NaN to integer\n"
     ]
    }
   ],
   "source": [
    "train_data = create_dummies(train_data)"
   ]
  },
  {
   "cell_type": "code",
   "execution_count": 11,
   "id": "a00a4426",
   "metadata": {},
   "outputs": [
    {
     "name": "stdout",
     "output_type": "stream",
     "text": [
      "LEGAL NAME encoded\n",
      "DOING BUSINESS AS NAME encoded\n"
     ]
    },
    {
     "name": "stderr",
     "output_type": "stream",
     "text": [
      "C:\\Users\\USER\\AppData\\Local\\Temp/ipykernel_13228/3072490657.py:9: SettingWithCopyWarning: \n",
      "A value is trying to be set on a copy of a slice from a DataFrame\n",
      "\n",
      "See the caveats in the documentation: https://pandas.pydata.org/pandas-docs/stable/user_guide/indexing.html#returning-a-view-versus-a-copy\n",
      "  df[i][mask] = label_encoder.fit_transform(df[i][mask])\n"
     ]
    },
    {
     "name": "stdout",
     "output_type": "stream",
     "text": [
      "cannot convert float NaN to integer\n",
      "CITY encoded\n",
      "STATE encoded\n",
      "WARD PRECINCT encoded\n",
      "cannot convert float NaN to integer\n",
      "LICENSE DESCRIPTION encoded\n",
      "APPLICATION TYPE encoded\n",
      "APPLICATION REQUIREMENTS COMPLETE encoded\n",
      "cannot convert float NaN to integer\n",
      "PAYMENT DATE encoded\n",
      "cannot convert float NaN to integer\n",
      "CONDITIONAL APPROVAL encoded\n",
      "LICENSE TERM START DATE encoded\n",
      "cannot convert float NaN to integer\n",
      "LICENSE TERM EXPIRATION DATE encoded\n",
      "cannot convert float NaN to integer\n",
      "LICENSE APPROVED FOR ISSUANCE encoded\n",
      "cannot convert float NaN to integer\n",
      "DATE ISSUED encoded\n",
      "LICENSE STATUS CHANGE DATE encoded\n",
      "cannot convert float NaN to integer\n"
     ]
    }
   ],
   "source": [
    "test_data = create_dummies(test_data)"
   ]
  },
  {
   "cell_type": "code",
   "execution_count": 12,
   "id": "6b2ec628",
   "metadata": {},
   "outputs": [],
   "source": [
    "encoder = LabelEncoder()\n",
    "train_data[\"WARD PRECINCT\"] = encoder.fit_transform(train_data[\"WARD PRECINCT\"].astype(str))\n",
    "test_data[\"WARD PRECINCT\"] = encoder.fit_transform(test_data[\"WARD PRECINCT\"].astype(str))"
   ]
  },
  {
   "cell_type": "code",
   "execution_count": 13,
   "id": "9cde1d80",
   "metadata": {},
   "outputs": [],
   "source": [
    "encoder = LabelEncoder()\n",
    "train_data[\"ZIP CODE\"] = encoder.fit_transform(train_data[\"ZIP CODE\"].astype(str))\n",
    "test_data[\"ZIP CODE\"] = encoder.fit_transform(test_data[\"ZIP CODE\"].astype(str))"
   ]
  },
  {
   "cell_type": "code",
   "execution_count": 14,
   "id": "4753c696",
   "metadata": {},
   "outputs": [
    {
     "data": {
      "text/plain": [
       "Index(['ACCOUNT NUMBER', 'SITE NUMBER', 'LEGAL NAME', 'DOING BUSINESS AS NAME',\n",
       "       'CITY', 'STATE', 'ZIP CODE', 'WARD', 'PRECINCT', 'WARD PRECINCT',\n",
       "       'POLICE DISTRICT', 'LICENSE CODE', 'LICENSE DESCRIPTION',\n",
       "       'LICENSE NUMBER', 'APPLICATION TYPE',\n",
       "       'APPLICATION REQUIREMENTS COMPLETE', 'PAYMENT DATE',\n",
       "       'CONDITIONAL APPROVAL', 'LICENSE TERM START DATE',\n",
       "       'LICENSE TERM EXPIRATION DATE', 'LICENSE APPROVED FOR ISSUANCE',\n",
       "       'DATE ISSUED', 'LICENSE STATUS CHANGE DATE', 'LATITUDE', 'LONGITUDE',\n",
       "       'LICENSE STATUS'],\n",
       "      dtype='object')"
      ]
     },
     "execution_count": 14,
     "metadata": {},
     "output_type": "execute_result"
    }
   ],
   "source": [
    "train_data.columns"
   ]
  },
  {
   "cell_type": "code",
   "execution_count": 15,
   "id": "41b076f8",
   "metadata": {},
   "outputs": [],
   "source": [
    "imp_nil_list = ['ACCOUNT NUMBER', 'SITE NUMBER', 'LEGAL NAME', 'DOING BUSINESS AS NAME',\n",
    "       'CITY', 'STATE', 'ZIP CODE', 'WARD', 'PRECINCT', 'WARD PRECINCT',\n",
    "       'POLICE DISTRICT', 'LICENSE CODE', 'LICENSE DESCRIPTION',\n",
    "       'LICENSE NUMBER', 'APPLICATION TYPE',\n",
    "       'APPLICATION REQUIREMENTS COMPLETE', 'PAYMENT DATE',\n",
    "       'CONDITIONAL APPROVAL', 'LICENSE TERM START DATE',\n",
    "       'LICENSE TERM EXPIRATION DATE', 'LICENSE APPROVED FOR ISSUANCE',\n",
    "       'DATE ISSUED', 'LICENSE STATUS CHANGE DATE', 'LATITUDE', 'LONGITUDE']\n",
    "impute_nil(imp_nil_list)"
   ]
  },
  {
   "cell_type": "markdown",
   "id": "443ff0d9",
   "metadata": {},
   "source": [
    "# DATA AFTER ENCODING AND FILLING THE EMPTY SPACES"
   ]
  },
  {
   "cell_type": "code",
   "execution_count": 16,
   "id": "e68bd423",
   "metadata": {},
   "outputs": [
    {
     "data": {
      "text/html": [
       "<div>\n",
       "<style scoped>\n",
       "    .dataframe tbody tr th:only-of-type {\n",
       "        vertical-align: middle;\n",
       "    }\n",
       "\n",
       "    .dataframe tbody tr th {\n",
       "        vertical-align: top;\n",
       "    }\n",
       "\n",
       "    .dataframe thead th {\n",
       "        text-align: right;\n",
       "    }\n",
       "</style>\n",
       "<table border=\"1\" class=\"dataframe\">\n",
       "  <thead>\n",
       "    <tr style=\"text-align: right;\">\n",
       "      <th></th>\n",
       "      <th>ACCOUNT NUMBER</th>\n",
       "      <th>SITE NUMBER</th>\n",
       "      <th>LEGAL NAME</th>\n",
       "      <th>DOING BUSINESS AS NAME</th>\n",
       "      <th>CITY</th>\n",
       "      <th>STATE</th>\n",
       "      <th>ZIP CODE</th>\n",
       "      <th>WARD</th>\n",
       "      <th>PRECINCT</th>\n",
       "      <th>WARD PRECINCT</th>\n",
       "      <th>...</th>\n",
       "      <th>PAYMENT DATE</th>\n",
       "      <th>CONDITIONAL APPROVAL</th>\n",
       "      <th>LICENSE TERM START DATE</th>\n",
       "      <th>LICENSE TERM EXPIRATION DATE</th>\n",
       "      <th>LICENSE APPROVED FOR ISSUANCE</th>\n",
       "      <th>DATE ISSUED</th>\n",
       "      <th>LICENSE STATUS CHANGE DATE</th>\n",
       "      <th>LATITUDE</th>\n",
       "      <th>LONGITUDE</th>\n",
       "      <th>LICENSE STATUS</th>\n",
       "    </tr>\n",
       "  </thead>\n",
       "  <tbody>\n",
       "    <tr>\n",
       "      <th>0</th>\n",
       "      <td>32811</td>\n",
       "      <td>1</td>\n",
       "      <td>6186</td>\n",
       "      <td>8529</td>\n",
       "      <td>193</td>\n",
       "      <td>16</td>\n",
       "      <td>1469</td>\n",
       "      <td>22.0</td>\n",
       "      <td>28.0</td>\n",
       "      <td>1936</td>\n",
       "      <td>...</td>\n",
       "      <td>2994</td>\n",
       "      <td>0</td>\n",
       "      <td>1452</td>\n",
       "      <td>165</td>\n",
       "      <td>2914</td>\n",
       "      <td>1183</td>\n",
       "      <td>0</td>\n",
       "      <td>41.843613</td>\n",
       "      <td>-87.714618</td>\n",
       "      <td>2</td>\n",
       "    </tr>\n",
       "    <tr>\n",
       "      <th>1</th>\n",
       "      <td>262311</td>\n",
       "      <td>29</td>\n",
       "      <td>16618</td>\n",
       "      <td>18723</td>\n",
       "      <td>193</td>\n",
       "      <td>16</td>\n",
       "      <td>1459</td>\n",
       "      <td>33.0</td>\n",
       "      <td>23.0</td>\n",
       "      <td>103</td>\n",
       "      <td>...</td>\n",
       "      <td>410</td>\n",
       "      <td>0</td>\n",
       "      <td>1498</td>\n",
       "      <td>212</td>\n",
       "      <td>595</td>\n",
       "      <td>1298</td>\n",
       "      <td>1505</td>\n",
       "      <td>41.961132</td>\n",
       "      <td>-87.699626</td>\n",
       "      <td>1</td>\n",
       "    </tr>\n",
       "    <tr>\n",
       "      <th>2</th>\n",
       "      <td>345008</td>\n",
       "      <td>1</td>\n",
       "      <td>10098</td>\n",
       "      <td>11349</td>\n",
       "      <td>466</td>\n",
       "      <td>16</td>\n",
       "      <td>943</td>\n",
       "      <td>0.0</td>\n",
       "      <td>0.0</td>\n",
       "      <td>2383</td>\n",
       "      <td>...</td>\n",
       "      <td>3124</td>\n",
       "      <td>0</td>\n",
       "      <td>2034</td>\n",
       "      <td>151</td>\n",
       "      <td>3039</td>\n",
       "      <td>2478</td>\n",
       "      <td>0</td>\n",
       "      <td>0.000000</td>\n",
       "      <td>0.000000</td>\n",
       "      <td>2</td>\n",
       "    </tr>\n",
       "    <tr>\n",
       "      <th>3</th>\n",
       "      <td>273121</td>\n",
       "      <td>1</td>\n",
       "      <td>1958</td>\n",
       "      <td>2276</td>\n",
       "      <td>585</td>\n",
       "      <td>16</td>\n",
       "      <td>1243</td>\n",
       "      <td>0.0</td>\n",
       "      <td>0.0</td>\n",
       "      <td>2383</td>\n",
       "      <td>...</td>\n",
       "      <td>1314</td>\n",
       "      <td>0</td>\n",
       "      <td>915</td>\n",
       "      <td>77</td>\n",
       "      <td>1282</td>\n",
       "      <td>1160</td>\n",
       "      <td>0</td>\n",
       "      <td>0.000000</td>\n",
       "      <td>0.000000</td>\n",
       "      <td>2</td>\n",
       "    </tr>\n",
       "    <tr>\n",
       "      <th>4</th>\n",
       "      <td>213785</td>\n",
       "      <td>1</td>\n",
       "      <td>23910</td>\n",
       "      <td>25227</td>\n",
       "      <td>1145</td>\n",
       "      <td>16</td>\n",
       "      <td>1011</td>\n",
       "      <td>0.0</td>\n",
       "      <td>0.0</td>\n",
       "      <td>2383</td>\n",
       "      <td>...</td>\n",
       "      <td>502</td>\n",
       "      <td>0</td>\n",
       "      <td>1413</td>\n",
       "      <td>127</td>\n",
       "      <td>487</td>\n",
       "      <td>496</td>\n",
       "      <td>0</td>\n",
       "      <td>0.000000</td>\n",
       "      <td>0.000000</td>\n",
       "      <td>2</td>\n",
       "    </tr>\n",
       "  </tbody>\n",
       "</table>\n",
       "<p>5 rows × 26 columns</p>\n",
       "</div>"
      ],
      "text/plain": [
       "   ACCOUNT NUMBER  SITE NUMBER  LEGAL NAME  DOING BUSINESS AS NAME  CITY  \\\n",
       "0           32811            1        6186                    8529   193   \n",
       "1          262311           29       16618                   18723   193   \n",
       "2          345008            1       10098                   11349   466   \n",
       "3          273121            1        1958                    2276   585   \n",
       "4          213785            1       23910                   25227  1145   \n",
       "\n",
       "   STATE  ZIP CODE  WARD  PRECINCT  WARD PRECINCT  ...  PAYMENT DATE  \\\n",
       "0     16      1469  22.0      28.0           1936  ...          2994   \n",
       "1     16      1459  33.0      23.0            103  ...           410   \n",
       "2     16       943   0.0       0.0           2383  ...          3124   \n",
       "3     16      1243   0.0       0.0           2383  ...          1314   \n",
       "4     16      1011   0.0       0.0           2383  ...           502   \n",
       "\n",
       "   CONDITIONAL APPROVAL  LICENSE TERM START DATE  \\\n",
       "0                     0                     1452   \n",
       "1                     0                     1498   \n",
       "2                     0                     2034   \n",
       "3                     0                      915   \n",
       "4                     0                     1413   \n",
       "\n",
       "   LICENSE TERM EXPIRATION DATE  LICENSE APPROVED FOR ISSUANCE  DATE ISSUED  \\\n",
       "0                           165                           2914         1183   \n",
       "1                           212                            595         1298   \n",
       "2                           151                           3039         2478   \n",
       "3                            77                           1282         1160   \n",
       "4                           127                            487          496   \n",
       "\n",
       "   LICENSE STATUS CHANGE DATE   LATITUDE  LONGITUDE  LICENSE STATUS  \n",
       "0                           0  41.843613 -87.714618               2  \n",
       "1                        1505  41.961132 -87.699626               1  \n",
       "2                           0   0.000000   0.000000               2  \n",
       "3                           0   0.000000   0.000000               2  \n",
       "4                           0   0.000000   0.000000               2  \n",
       "\n",
       "[5 rows x 26 columns]"
      ]
     },
     "execution_count": 16,
     "metadata": {},
     "output_type": "execute_result"
    }
   ],
   "source": [
    "train_data.head()"
   ]
  },
  {
   "cell_type": "code",
   "execution_count": 17,
   "id": "603e4370",
   "metadata": {},
   "outputs": [
    {
     "data": {
      "text/html": [
       "<div>\n",
       "<style scoped>\n",
       "    .dataframe tbody tr th:only-of-type {\n",
       "        vertical-align: middle;\n",
       "    }\n",
       "\n",
       "    .dataframe tbody tr th {\n",
       "        vertical-align: top;\n",
       "    }\n",
       "\n",
       "    .dataframe thead th {\n",
       "        text-align: right;\n",
       "    }\n",
       "</style>\n",
       "<table border=\"1\" class=\"dataframe\">\n",
       "  <thead>\n",
       "    <tr style=\"text-align: right;\">\n",
       "      <th></th>\n",
       "      <th>ACCOUNT NUMBER</th>\n",
       "      <th>SITE NUMBER</th>\n",
       "      <th>LEGAL NAME</th>\n",
       "      <th>DOING BUSINESS AS NAME</th>\n",
       "      <th>CITY</th>\n",
       "      <th>STATE</th>\n",
       "      <th>ZIP CODE</th>\n",
       "      <th>WARD</th>\n",
       "      <th>PRECINCT</th>\n",
       "      <th>WARD PRECINCT</th>\n",
       "      <th>...</th>\n",
       "      <th>APPLICATION REQUIREMENTS COMPLETE</th>\n",
       "      <th>PAYMENT DATE</th>\n",
       "      <th>CONDITIONAL APPROVAL</th>\n",
       "      <th>LICENSE TERM START DATE</th>\n",
       "      <th>LICENSE TERM EXPIRATION DATE</th>\n",
       "      <th>LICENSE APPROVED FOR ISSUANCE</th>\n",
       "      <th>DATE ISSUED</th>\n",
       "      <th>LICENSE STATUS CHANGE DATE</th>\n",
       "      <th>LATITUDE</th>\n",
       "      <th>LONGITUDE</th>\n",
       "    </tr>\n",
       "  </thead>\n",
       "  <tbody>\n",
       "    <tr>\n",
       "      <th>0</th>\n",
       "      <td>280120</td>\n",
       "      <td>1</td>\n",
       "      <td>28932</td>\n",
       "      <td>30776</td>\n",
       "      <td>59</td>\n",
       "      <td>13</td>\n",
       "      <td>255</td>\n",
       "      <td>42.0</td>\n",
       "      <td>67.0</td>\n",
       "      <td>642</td>\n",
       "      <td>...</td>\n",
       "      <td>1901</td>\n",
       "      <td>2975</td>\n",
       "      <td>0</td>\n",
       "      <td>1830</td>\n",
       "      <td>116</td>\n",
       "      <td>2927</td>\n",
       "      <td>2530</td>\n",
       "      <td>3736</td>\n",
       "      <td>41.890047</td>\n",
       "      <td>-87.637467</td>\n",
       "    </tr>\n",
       "    <tr>\n",
       "      <th>1</th>\n",
       "      <td>65043</td>\n",
       "      <td>1</td>\n",
       "      <td>8023</td>\n",
       "      <td>9209</td>\n",
       "      <td>59</td>\n",
       "      <td>13</td>\n",
       "      <td>280</td>\n",
       "      <td>16.0</td>\n",
       "      <td>5.0</td>\n",
       "      <td>1689</td>\n",
       "      <td>...</td>\n",
       "      <td>1794</td>\n",
       "      <td>288</td>\n",
       "      <td>0</td>\n",
       "      <td>1895</td>\n",
       "      <td>180</td>\n",
       "      <td>286</td>\n",
       "      <td>634</td>\n",
       "      <td>3736</td>\n",
       "      <td>41.786485</td>\n",
       "      <td>-87.676665</td>\n",
       "    </tr>\n",
       "    <tr>\n",
       "      <th>2</th>\n",
       "      <td>281270</td>\n",
       "      <td>1</td>\n",
       "      <td>20194</td>\n",
       "      <td>21700</td>\n",
       "      <td>59</td>\n",
       "      <td>13</td>\n",
       "      <td>250</td>\n",
       "      <td>4.0</td>\n",
       "      <td>8.0</td>\n",
       "      <td>1762</td>\n",
       "      <td>...</td>\n",
       "      <td>3396</td>\n",
       "      <td>944</td>\n",
       "      <td>0</td>\n",
       "      <td>1977</td>\n",
       "      <td>262</td>\n",
       "      <td>929</td>\n",
       "      <td>909</td>\n",
       "      <td>0</td>\n",
       "      <td>41.868269</td>\n",
       "      <td>-87.625695</td>\n",
       "    </tr>\n",
       "    <tr>\n",
       "      <th>3</th>\n",
       "      <td>335243</td>\n",
       "      <td>1</td>\n",
       "      <td>2688</td>\n",
       "      <td>2881</td>\n",
       "      <td>59</td>\n",
       "      <td>13</td>\n",
       "      <td>311</td>\n",
       "      <td>9.0</td>\n",
       "      <td>33.0</td>\n",
       "      <td>1597</td>\n",
       "      <td>...</td>\n",
       "      <td>1819</td>\n",
       "      <td>608</td>\n",
       "      <td>0</td>\n",
       "      <td>1932</td>\n",
       "      <td>218</td>\n",
       "      <td>0</td>\n",
       "      <td>499</td>\n",
       "      <td>3930</td>\n",
       "      <td>41.655762</td>\n",
       "      <td>-87.608686</td>\n",
       "    </tr>\n",
       "    <tr>\n",
       "      <th>4</th>\n",
       "      <td>283018</td>\n",
       "      <td>3</td>\n",
       "      <td>21668</td>\n",
       "      <td>10342</td>\n",
       "      <td>59</td>\n",
       "      <td>13</td>\n",
       "      <td>276</td>\n",
       "      <td>15.0</td>\n",
       "      <td>26.0</td>\n",
       "      <td>1513</td>\n",
       "      <td>...</td>\n",
       "      <td>2605</td>\n",
       "      <td>2406</td>\n",
       "      <td>0</td>\n",
       "      <td>1929</td>\n",
       "      <td>176</td>\n",
       "      <td>2359</td>\n",
       "      <td>2069</td>\n",
       "      <td>3249</td>\n",
       "      <td>41.816969</td>\n",
       "      <td>-87.699785</td>\n",
       "    </tr>\n",
       "  </tbody>\n",
       "</table>\n",
       "<p>5 rows × 25 columns</p>\n",
       "</div>"
      ],
      "text/plain": [
       "   ACCOUNT NUMBER  SITE NUMBER  LEGAL NAME  DOING BUSINESS AS NAME  CITY  \\\n",
       "0          280120            1       28932                   30776    59   \n",
       "1           65043            1        8023                    9209    59   \n",
       "2          281270            1       20194                   21700    59   \n",
       "3          335243            1        2688                    2881    59   \n",
       "4          283018            3       21668                   10342    59   \n",
       "\n",
       "   STATE  ZIP CODE  WARD  PRECINCT  WARD PRECINCT  ...  \\\n",
       "0     13       255  42.0      67.0            642  ...   \n",
       "1     13       280  16.0       5.0           1689  ...   \n",
       "2     13       250   4.0       8.0           1762  ...   \n",
       "3     13       311   9.0      33.0           1597  ...   \n",
       "4     13       276  15.0      26.0           1513  ...   \n",
       "\n",
       "   APPLICATION REQUIREMENTS COMPLETE  PAYMENT DATE  CONDITIONAL APPROVAL  \\\n",
       "0                               1901          2975                     0   \n",
       "1                               1794           288                     0   \n",
       "2                               3396           944                     0   \n",
       "3                               1819           608                     0   \n",
       "4                               2605          2406                     0   \n",
       "\n",
       "   LICENSE TERM START DATE  LICENSE TERM EXPIRATION DATE  \\\n",
       "0                     1830                           116   \n",
       "1                     1895                           180   \n",
       "2                     1977                           262   \n",
       "3                     1932                           218   \n",
       "4                     1929                           176   \n",
       "\n",
       "   LICENSE APPROVED FOR ISSUANCE  DATE ISSUED  LICENSE STATUS CHANGE DATE  \\\n",
       "0                           2927         2530                        3736   \n",
       "1                            286          634                        3736   \n",
       "2                            929          909                           0   \n",
       "3                              0          499                        3930   \n",
       "4                           2359         2069                        3249   \n",
       "\n",
       "    LATITUDE  LONGITUDE  \n",
       "0  41.890047 -87.637467  \n",
       "1  41.786485 -87.676665  \n",
       "2  41.868269 -87.625695  \n",
       "3  41.655762 -87.608686  \n",
       "4  41.816969 -87.699785  \n",
       "\n",
       "[5 rows x 25 columns]"
      ]
     },
     "execution_count": 17,
     "metadata": {},
     "output_type": "execute_result"
    }
   ],
   "source": [
    "test_data.head()"
   ]
  },
  {
   "cell_type": "markdown",
   "id": "b936cb9d",
   "metadata": {},
   "source": [
    "# STORING THE DATA AND STANDARDAZING IT FOR LESS DEVIATION"
   ]
  },
  {
   "cell_type": "code",
   "execution_count": 18,
   "id": "f8d926dc",
   "metadata": {},
   "outputs": [],
   "source": [
    "X = train_data.drop('LICENSE STATUS', axis=1)\n",
    "y = train_data['LICENSE STATUS']"
   ]
  },
  {
   "cell_type": "code",
   "execution_count": 19,
   "id": "06e8286a",
   "metadata": {},
   "outputs": [
    {
     "data": {
      "text/plain": [
       "array([[-1.29227428, -0.17977005, -1.17011457, -1.01995961, -0.67533094,\n",
       "        -0.13178147,  0.63566053,  0.59622025,  0.09566698,  0.12672646,\n",
       "         0.63028984, -0.40691488, -0.12106603, -1.60504858,  0.61583007,\n",
       "         1.67954327,  0.73335727, -0.01447764,  0.10171404,  0.85753448,\n",
       "         0.74905374, -0.55779321, -0.61091629,  1.10384337, -1.10640561],\n",
       "       [ 0.5173971 ,  3.05510897, -0.24953833, -0.18052883, -0.67533094,\n",
       "        -0.13178147,  0.5999656 ,  1.25346738,  0.04494939, -2.17283746,\n",
       "         1.51660843,  0.81299038,  0.20112479,  0.17536946,  0.61583007,\n",
       "         0.77450558, -1.38488466, -0.01447764,  0.20264343,  1.77288935,\n",
       "        -1.09620781, -0.43899249,  0.70937034,  1.10948375, -1.10606191],\n",
       "       [ 1.16948596, -0.17977005, -0.82489848, -0.78774509,  0.18117689,\n",
       "        -0.13178147, -1.24189305, -0.71827402, -0.18835155,  0.68750392,\n",
       "        -0.63587959, -0.40291519, -0.89432398,  1.01203559, -1.39997435,\n",
       "         0.75191997,  0.83992517, -0.01447764,  1.3786903 ,  0.58487559,\n",
       "         0.84851803,  0.78000618, -0.61091629, -0.90445129,  0.90445392],\n",
       "       [ 0.60263696, -0.17977005, -1.54321621, -1.53486648,  0.55452645,\n",
       "        -0.13178147, -0.171045  , -0.71827402, -0.18835155,  0.68750392,\n",
       "        -0.63587959, -0.40691488, -0.12106603,  0.33431275, -1.39997435,\n",
       "        -1.33563577, -0.64382788, -0.01447764, -1.07652695, -0.85632144,\n",
       "        -0.54955206, -0.58155335, -0.61091629, -0.90445129,  0.90445392],\n",
       "       [ 0.13475608, -0.17977005,  0.39394728,  0.35504678,  2.31146559,\n",
       "        -0.13178147, -0.99916749, -0.71827402, -0.18835155,  0.68750392,\n",
       "        -0.63587959, -0.40691488, -0.12106603, -0.11670408,  0.61583007,\n",
       "         1.02456056, -1.30946737, -0.01447764,  0.01614346,  0.11746034,\n",
       "        -1.18214496, -1.26749837, -0.61091629, -0.90445129,  0.90445392]])"
      ]
     },
     "execution_count": 19,
     "metadata": {},
     "output_type": "execute_result"
    }
   ],
   "source": [
    "X = preprocessing.StandardScaler().fit(X).transform(X)\n",
    "X[0:5]"
   ]
  },
  {
   "cell_type": "code",
   "execution_count": 20,
   "id": "5d3f5dd3",
   "metadata": {},
   "outputs": [
    {
     "name": "stdout",
     "output_type": "stream",
     "text": [
      "Train set: (68716, 25) (68716,)\n",
      "Test set: (17179, 25) (17179,)\n"
     ]
    }
   ],
   "source": [
    "from sklearn.model_selection import train_test_split\n",
    "X_train, X_test, y_train, y_test = train_test_split( X, y, test_size=0.2, random_state=4)\n",
    "print ('Train set:', X_train.shape,  y_train.shape)\n",
    "print ('Test set:', X_test.shape,  y_test.shape)"
   ]
  },
  {
   "cell_type": "markdown",
   "id": "7bfbcb2d",
   "metadata": {},
   "source": [
    "# Lets check the K nearest neighbour model"
   ]
  },
  {
   "cell_type": "code",
   "execution_count": 21,
   "id": "9a91627b",
   "metadata": {},
   "outputs": [],
   "source": [
    "from sklearn.neighbors import KNeighborsClassifier"
   ]
  },
  {
   "cell_type": "code",
   "execution_count": 22,
   "id": "b4a815fb",
   "metadata": {},
   "outputs": [
    {
     "data": {
      "text/plain": [
       "KNeighborsClassifier(n_neighbors=4)"
      ]
     },
     "execution_count": 22,
     "metadata": {},
     "output_type": "execute_result"
    }
   ],
   "source": [
    "k = 4\n",
    "#Train Model and Predict  \n",
    "neigh = KNeighborsClassifier(n_neighbors = k).fit(X_train,y_train)\n",
    "neigh"
   ]
  },
  {
   "cell_type": "code",
   "execution_count": 23,
   "id": "f4bd16c0",
   "metadata": {},
   "outputs": [
    {
     "data": {
      "text/plain": [
       "array([2, 2, 1, 2, 2], dtype=int64)"
      ]
     },
     "execution_count": 23,
     "metadata": {},
     "output_type": "execute_result"
    }
   ],
   "source": [
    "yhat = neigh.predict(X_test)\n",
    "yhat[0:5]"
   ]
  },
  {
   "cell_type": "code",
   "execution_count": 24,
   "id": "8131c5c0",
   "metadata": {},
   "outputs": [
    {
     "name": "stdout",
     "output_type": "stream",
     "text": [
      "Train set Accuracy:  0.9607369462716107\n",
      "Test set Accuracy:  0.9379474940334129\n"
     ]
    }
   ],
   "source": [
    "from sklearn import metrics\n",
    "print(\"Train set Accuracy: \", metrics.accuracy_score(y_train, neigh.predict(X_train)))\n",
    "print(\"Test set Accuracy: \", metrics.accuracy_score(y_test, yhat))"
   ]
  },
  {
   "cell_type": "markdown",
   "id": "f9d15246",
   "metadata": {},
   "source": [
    "## The F1 TEST SCORE FOR THE K MODEL"
   ]
  },
  {
   "cell_type": "code",
   "execution_count": 25,
   "id": "67390f43",
   "metadata": {},
   "outputs": [
    {
     "data": {
      "text/plain": [
       "0.9368623776172079"
      ]
     },
     "execution_count": 25,
     "metadata": {},
     "output_type": "execute_result"
    }
   ],
   "source": [
    "from sklearn.metrics import f1_score\n",
    "kmodel=f1_score(y_test, yhat, average='weighted') \n",
    "kmodel"
   ]
  },
  {
   "cell_type": "code",
   "execution_count": 26,
   "id": "90247eb3",
   "metadata": {},
   "outputs": [
    {
     "data": {
      "text/plain": [
       "array([0.93323243, 0.92956517, 0.94056697, 0.93794749, 0.94079981,\n",
       "       0.94045055, 0.9418476 , 0.94097445, 0.94213866])"
      ]
     },
     "execution_count": 26,
     "metadata": {},
     "output_type": "execute_result"
    }
   ],
   "source": [
    "#lets check which K is the best\n",
    "Ks = 10\n",
    "mean_acc = np.zeros((Ks-1))\n",
    "std_acc = np.zeros((Ks-1))\n",
    "\n",
    "for n in range(1,Ks):\n",
    "    \n",
    "    #Train Model and Predict  \n",
    "    neigh = KNeighborsClassifier(n_neighbors = n).fit(X_train,y_train)\n",
    "    yhat=neigh.predict(X_test)\n",
    "    mean_acc[n-1] = metrics.accuracy_score(y_test, yhat)\n",
    "\n",
    "    \n",
    "    std_acc[n-1]=np.std(yhat==y_test)/np.sqrt(yhat.shape[0])\n",
    "\n",
    "mean_acc"
   ]
  },
  {
   "cell_type": "code",
   "execution_count": 27,
   "id": "68619086",
   "metadata": {},
   "outputs": [
    {
     "data": {
      "image/png": "[encoded data removed]",
      "text/plain": [
       "<Figure size 432x288 with 1 Axes>"
      ]
     },
     "metadata": {
      "needs_background": "light"
     },
     "output_type": "display_data"
    }
   ],
   "source": [
    "plt.plot(range(1,Ks),mean_acc,'g')\n",
    "plt.fill_between(range(1,Ks),mean_acc - 1 * std_acc,mean_acc + 1 * std_acc, alpha=0.10)\n",
    "plt.fill_between(range(1,Ks),mean_acc - 3 * std_acc,mean_acc + 3 * std_acc, alpha=0.10,color=\"green\")\n",
    "plt.legend(('Accuracy ', '+/- 1xstd','+/- 3xstd'))\n",
    "plt.ylabel('Accuracy ')\n",
    "plt.xlabel('Number of Neighbors (K)')\n",
    "plt.tight_layout()\n",
    "plt.show()"
   ]
  },
  {
   "cell_type": "code",
   "execution_count": 28,
   "id": "5b05a12b",
   "metadata": {},
   "outputs": [
    {
     "name": "stdout",
     "output_type": "stream",
     "text": [
      "The best accuracy was with 0.9421386576634263 with k= 9\n"
     ]
    }
   ],
   "source": [
    "print( \"The best accuracy was with\", mean_acc.max(), \"with k=\", mean_acc.argmax()+1) "
   ]
  },
  {
   "cell_type": "markdown",
   "id": "33aa796d",
   "metadata": {},
   "source": [
    "# Lets check the SVM MODEL"
   ]
  },
  {
   "cell_type": "code",
   "execution_count": 29,
   "id": "212a0ad6",
   "metadata": {},
   "outputs": [
    {
     "data": {
      "text/plain": [
       "0.982703567696146"
      ]
     },
     "execution_count": 29,
     "metadata": {},
     "output_type": "execute_result"
    }
   ],
   "source": [
    "from sklearn import svm\n",
    "clf = svm.SVC(kernel='rbf')\n",
    "clf.fit(X_train, y_train) \n",
    "yhat = clf.predict(X_test)\n",
    "yhat [0:5]\n",
    "from sklearn.metrics import f1_score\n",
    "svmmodel=f1_score(y_test, yhat, average='weighted') \n",
    "svmmodel\n"
   ]
  },
  {
   "cell_type": "markdown",
   "id": "88a97ea5",
   "metadata": {},
   "source": [
    "# Lets check logistic regression model"
   ]
  },
  {
   "cell_type": "code",
   "execution_count": 30,
   "id": "31632696",
   "metadata": {},
   "outputs": [
    {
     "data": {
      "text/plain": [
       "LogisticRegression(C=0.01, solver='liblinear')"
      ]
     },
     "execution_count": 30,
     "metadata": {},
     "output_type": "execute_result"
    }
   ],
   "source": [
    "from sklearn.linear_model import LogisticRegression\n",
    "from sklearn.metrics import confusion_matrix\n",
    "LR = LogisticRegression(C=0.01, solver='liblinear').fit(X_train,y_train)\n",
    "LR"
   ]
  },
  {
   "cell_type": "code",
   "execution_count": 31,
   "id": "8609703f",
   "metadata": {},
   "outputs": [
    {
     "data": {
      "text/plain": [
       "0.9608756172335655"
      ]
     },
     "execution_count": 31,
     "metadata": {},
     "output_type": "execute_result"
    }
   ],
   "source": [
    "yhat = LR.predict(X_test)\n",
    "yhat\n",
    "lrmmodel=f1_score(y_test, yhat, average='weighted') \n",
    "lrmmodel"
   ]
  },
  {
   "cell_type": "code",
   "execution_count": 32,
   "id": "9de1eceb",
   "metadata": {},
   "outputs": [
    {
     "data": {
      "text/plain": [
       "array([[4.43575384e-02, 9.30209911e-01, 7.29841551e-03, 7.16524620e-03,\n",
       "        1.09688893e-02],\n",
       "       [1.41651288e-01, 8.32450122e-01, 6.96407861e-03, 7.13234148e-03,\n",
       "        1.18021693e-02],\n",
       "       [9.67184039e-01, 6.50558061e-07, 6.90669908e-03, 7.00157069e-03,\n",
       "        1.89070407e-02],\n",
       "       ...,\n",
       "       [1.58227627e-01, 8.18832063e-01, 6.97346883e-03, 7.07376285e-03,\n",
       "        8.89307859e-03],\n",
       "       [1.94726020e-02, 9.59688809e-01, 7.05676870e-03, 7.02053603e-03,\n",
       "        6.76128400e-03],\n",
       "       [2.32789650e-02, 9.57327686e-01, 7.09429969e-03, 6.96483553e-03,\n",
       "        5.33421390e-03]])"
      ]
     },
     "execution_count": 32,
     "metadata": {},
     "output_type": "execute_result"
    }
   ],
   "source": [
    "yhat_prob = LR.predict_proba(X_test)\n",
    "yhat_prob"
   ]
  },
  {
   "cell_type": "markdown",
   "id": "28975432",
   "metadata": {},
   "source": [
    "# Decision Tree Model"
   ]
  },
  {
   "cell_type": "code",
   "execution_count": 50,
   "id": "40c731fd",
   "metadata": {},
   "outputs": [
    {
     "data": {
      "text/plain": [
       "DecisionTreeClassifier(criterion='entropy', max_depth=4)"
      ]
     },
     "execution_count": 50,
     "metadata": {},
     "output_type": "execute_result"
    }
   ],
   "source": [
    "from sklearn.tree import DecisionTreeClassifier\n",
    "drugTree = DecisionTreeClassifier(criterion=\"entropy\", max_depth = 4)\n",
    "drugTree # it shows the default parameters\n",
    "drugTree.fit(X_train,y_train)"
   ]
  },
  {
   "cell_type": "code",
   "execution_count": 55,
   "id": "77ed669b",
   "metadata": {},
   "outputs": [
    {
     "data": {
      "text/plain": [
       "0.9953790130268372"
      ]
     },
     "execution_count": 55,
     "metadata": {},
     "output_type": "execute_result"
    }
   ],
   "source": [
    "yhat = drugTree.predict(X_test)\n",
    "yhat\n",
    "drmodel=f1_score(y_test, yhat, average='weighted') \n",
    "drmodel"
   ]
  },
  {
   "cell_type": "markdown",
   "id": "a134fbe7",
   "metadata": {},
   "source": [
    "# MODEL COMPARISON BASED ON F1 TEST SCORE"
   ]
  },
  {
   "cell_type": "code",
   "execution_count": 58,
   "id": "a8e10c4a",
   "metadata": {},
   "outputs": [
    {
     "data": {
      "text/html": [
       "<div>\n",
       "<style scoped>\n",
       "    .dataframe tbody tr th:only-of-type {\n",
       "        vertical-align: middle;\n",
       "    }\n",
       "\n",
       "    .dataframe tbody tr th {\n",
       "        vertical-align: top;\n",
       "    }\n",
       "\n",
       "    .dataframe thead th {\n",
       "        text-align: right;\n",
       "    }\n",
       "</style>\n",
       "<table border=\"1\" class=\"dataframe\">\n",
       "  <thead>\n",
       "    <tr style=\"text-align: right;\">\n",
       "      <th></th>\n",
       "      <th>Model</th>\n",
       "      <th>Score</th>\n",
       "    </tr>\n",
       "  </thead>\n",
       "  <tbody>\n",
       "    <tr>\n",
       "      <th>3</th>\n",
       "      <td>Decision Tree Model</td>\n",
       "      <td>0.995379</td>\n",
       "    </tr>\n",
       "    <tr>\n",
       "      <th>1</th>\n",
       "      <td>Support Vector Machines</td>\n",
       "      <td>0.982704</td>\n",
       "    </tr>\n",
       "    <tr>\n",
       "      <th>0</th>\n",
       "      <td>Logistic Regression</td>\n",
       "      <td>0.960876</td>\n",
       "    </tr>\n",
       "    <tr>\n",
       "      <th>2</th>\n",
       "      <td>K - Nearest Neighbors</td>\n",
       "      <td>0.936862</td>\n",
       "    </tr>\n",
       "  </tbody>\n",
       "</table>\n",
       "</div>"
      ],
      "text/plain": [
       "                     Model     Score\n",
       "3      Decision Tree Model  0.995379\n",
       "1  Support Vector Machines  0.982704\n",
       "0      Logistic Regression  0.960876\n",
       "2    K - Nearest Neighbors  0.936862"
      ]
     },
     "execution_count": 58,
     "metadata": {},
     "output_type": "execute_result"
    }
   ],
   "source": [
    "models = pd.DataFrame({\n",
    "    'Model': ['Logistic Regression', 'Support Vector Machines', \n",
    "              'K - Nearest Neighbors', 'Decision Tree Model'],\n",
    "    'Score': [lrmmodel, svmmodel, kmodel, drmodel]})\n",
    "models.sort_values(by='Score', ascending=False)"
   ]
  },
  {
   "cell_type": "markdown",
   "id": "744fe548",
   "metadata": {},
   "source": [
    "# Carrying out prediction for test data using SVM, k, LR, DTR model based on highest F1 test scores"
   ]
  },
  {
   "cell_type": "code",
   "execution_count": 59,
   "id": "714970d9",
   "metadata": {},
   "outputs": [],
   "source": [
    "my_pred = drugTree.predict(test_data)"
   ]
  },
  {
   "cell_type": "code",
   "execution_count": 60,
   "id": "404ac39a",
   "metadata": {},
   "outputs": [],
   "source": [
    "my_submission['LICENSE STATUS'] = my_pred"
   ]
  },
  {
   "cell_type": "code",
   "execution_count": 61,
   "id": "ebea2f86",
   "metadata": {},
   "outputs": [],
   "source": [
    "my_submission['LICENSE STATUS'] = my_submission['LICENSE STATUS'].replace(2, 'AAI')\n",
    "my_submission['LICENSE STATUS'] = my_submission['LICENSE STATUS'].replace(1, 'AAC')\n",
    "my_submission['LICENSE STATUS'] = my_submission['LICENSE STATUS'].replace(5, 'REV')\n",
    "my_submission['LICENSE STATUS'] = my_submission['LICENSE STATUS'].replace(4, 'REA')\n",
    "my_submission['LICENSE STATUS'] = my_submission['LICENSE STATUS'].replace(3, 'INQ')"
   ]
  },
  {
   "cell_type": "code",
   "execution_count": 62,
   "id": "7a95973b",
   "metadata": {},
   "outputs": [
    {
     "name": "stdout",
     "output_type": "stream",
     "text": [
      "Saved file to D drive\n"
     ]
    }
   ],
   "source": [
    "# Saving predictions to file\n",
    "my_submission.to_csv(r'D:\\ZS TEST\\submission.csv', index=False)\n",
    "print('Saved file to D drive')"
   ]
  },
  {
   "cell_type": "code",
   "execution_count": null,
   "id": "8ccc8cfc",
   "metadata": {},
   "outputs": [],
   "source": []
  }
 ],
 "metadata": {
  "kernelspec": {
   "display_name": "Python 3 (ipykernel)",
   "language": "python",
   "name": "python3"
  },
  "language_info": {
   "codemirror_mode": {
    "name": "ipython",
    "version": 3
   },
   "file_extension": ".py",
   "mimetype": "text/x-python",
   "name": "python",
   "nbconvert_exporter": "python",
   "pygments_lexer": "ipython3",
   "version": "3.9.7"
  }
 },
 "nbformat": 4,
 "nbformat_minor": 5
}
